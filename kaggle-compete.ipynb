{
 "cells": [
  {
   "metadata": {},
   "cell_type": "markdown",
   "source": "# Calculate results on the Kaggle no-labels dataset",
   "id": "4ee5bf0a2ae3bb47"
  },
  {
   "metadata": {},
   "cell_type": "code",
   "outputs": [],
   "execution_count": null,
   "source": "!(pip install git+https://github.com/mike10004/csgy6953-mp1.git@compete-2)",
   "id": "90225253cabebf44"
  },
  {
   "metadata": {},
   "cell_type": "code",
   "outputs": [],
   "execution_count": null,
   "source": [
    "# Zip file available from https://drive.google.com/file/d/1991dX66AalnGTepUcvoSQA-WDs7w0VUC/view?usp=drive_link\n",
    "!(test -d \"cifar_test_nolabels\" || unzip -q \"cifar_test_nolabels.zip\")"
   ],
   "id": "ab39e22ac2323689"
  },
  {
   "metadata": {},
   "cell_type": "code",
   "outputs": [],
   "execution_count": null,
   "source": [
    "from pathlib import Path\n",
    "import dlmp1.compete\n",
    "from dlmp1.select import create_model_factory\n",
    "from dlmp1.models.resnet import Hyperparametry\n",
    "\n",
    "images_dir = \"./cifar_test_nolabels\"\n",
    "\n",
    "# Specify pathname of your checkpoint file\n",
    "checkpoint_file = \"./model.pth\"\n",
    "\n",
    "model_factory = create_model_factory([3, 5, 3], Hyperparametry())\n",
    "device = \"cpu\"\n",
    "dlmp1.compete.infer(Path(images_dir), model_factory, Path(checkpoint_file), device=device)\n"
   ],
   "id": "c559794b1deb789e"
  }
 ],
 "metadata": {
  "kernelspec": {
   "display_name": "Python 3",
   "language": "python",
   "name": "python3"
  },
  "language_info": {
   "codemirror_mode": {
    "name": "ipython",
    "version": 2
   },
   "file_extension": ".py",
   "mimetype": "text/x-python",
   "name": "python",
   "nbconvert_exporter": "python",
   "pygments_lexer": "ipython2",
   "version": "2.7.6"
  }
 },
 "nbformat": 4,
 "nbformat_minor": 5
}
