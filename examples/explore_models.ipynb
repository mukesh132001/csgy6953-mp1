{
 "cells": [
  {
   "cell_type": "code",
   "execution_count": null,
   "id": "initial_id",
   "metadata": {
    "collapsed": true
   },
   "outputs": [],
   "source": [
    "import torchsummary\n",
    "from dlmp1.models.resnet import ResNet\n",
    "from dlmp1.models.resnet import ResNet34\n",
    "from dlmp1.models.resnet import BasicBlock\n",
    "\n",
    "\n",
    "resnet18 = ResNet(BasicBlock, [2, 2, 2, 2])\n",
    "resnet34 = ResNet34()\n",
    "# resnet_custom1 = ResNet(BasicBlock, [2, 2])\n",
    "# resnet_custom2 = ResNet(BasicBlock, [2, 2, 2])\n",
    "# custom3 = ResNet(BasicBlock, [2, 4, 3])\n",
    "custom4 = ResNet(BasicBlock, [2, 2, 2, 2])\n",
    "models = [\n",
    "    (\"resnet34\", resnet34),\n",
    "    (\"resnet18\", resnet18),\n",
    "    # (\"resnet-2block\", resnet_custom1),\n",
    "    # (\"resnet-3block\", resnet_custom2),\n",
    "    # (\"resnet-custom3\", custom3),\n",
    "]\n",
    "\n",
    "for name, model in models:\n",
    "    summary = torchsummary.summary(model, verbose=0)\n",
    "    print(f\"{summary.total_params / 1_000_000:3.1f}m parameters in {name} ({summary.total_params})\")\n",
    "    # print(summary)\n"
   ]
  },
  {
   "cell_type": "code",
   "outputs": [],
   "source": [
    "import torch\n",
    "import torchsummary\n",
    "from dlmp1.models.resnet import ResNet18\n",
    "\n",
    "model = ResNet18()\n",
    "torchsummary.summary(model, input_data=torch.randn(1, 3, 32, 32))"
   ],
   "metadata": {
    "collapsed": false
   },
   "id": "f05b5ad66b351db8",
   "execution_count": null
  },
  {
   "cell_type": "code",
   "outputs": [],
   "source": [
    "import torch\n",
    "import torchsummary\n",
    "from dlmp1.models.resnet import ResNet18\n",
    "from dlmp1.models.resnet import CustomResNet\n",
    "from dlmp1.models.resnet import BlockSpec\n",
    "\n",
    "model = ResNet18()\n",
    "torchsummary.summary(model, input_data=torch.randn(1, 3, 32, 32))"
   ],
   "metadata": {
    "collapsed": false
   },
   "id": "a433eb4d7b132013",
   "execution_count": null
  },
  {
   "cell_type": "code",
   "outputs": [],
   "source": [
    "import torch\n",
    "import torchsummary\n",
    "from dlmp1.models.resnet import ResNet18\n",
    "from dlmp1.models.resnet import CustomResNet\n",
    "from dlmp1.models.resnet import BlockSpec\n",
    "\n",
    "model = CustomResNet([\n",
    "                BlockSpec(2, 64, stride=1),\n",
    "                BlockSpec(2, 128, stride=2),\n",
    "                BlockSpec(2, 256, stride=2),\n",
    "                BlockSpec(2, 512, stride=2),\n",
    "            ])\n",
    "torchsummary.summary(model, input_data=torch.randn(1, 3, 32, 32))"
   ],
   "metadata": {
    "collapsed": false
   },
   "id": "3ea968bc83f74e6f",
   "execution_count": null
  }
 ],
 "metadata": {
  "kernelspec": {
   "display_name": "Python 3",
   "language": "python",
   "name": "python3"
  },
  "language_info": {
   "codemirror_mode": {
    "name": "ipython",
    "version": 2
   },
   "file_extension": ".py",
   "mimetype": "text/x-python",
   "name": "python",
   "nbconvert_exporter": "python",
   "pygments_lexer": "ipython2",
   "version": "2.7.6"
  }
 },
 "nbformat": 4,
 "nbformat_minor": 5
}
