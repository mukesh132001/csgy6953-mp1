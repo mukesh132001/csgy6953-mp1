{
 "cells": [
  {
   "cell_type": "code",
   "outputs": [],
   "source": [
    "%matplotlib inline\n",
    "import numpy as np\n",
    "from matplotlib import pyplot as plt\n",
    "from matplotlib.axes import Axes\n",
    "from dlmp1.train import History\n",
    "\n",
    "\n",
    "def plot_epochs_curves(train_hist: History, val_hist: History):\n",
    "    fig, axes = plt.subplots(1, 2, figsize=(8, 4))\n",
    "    for ax, measurements, factor, y_bounds, subject, y_label in zip(axes, \n",
    "                                               [(train_hist.losses, val_hist.losses), (train_hist.accs, val_hist.accs)],\n",
    "                                               [1.0, 100.0],\n",
    "                                               [None, (0.0, 100.0)],\n",
    "                                               [\"Loss\", \"Accuracy\"],\n",
    "                                               [\"Cross-Entropy Loss\", \"Correct (%)\"]):\n",
    "        ax: Axes\n",
    "        ax.set_title(subject)\n",
    "        ax.set_xlabel(\"Epochs\")\n",
    "        ax.set_ylabel(y_label)\n",
    "        train_values, val_values = measurements\n",
    "        train_values, val_values = np.array(train_values), np.array(val_values)\n",
    "        epochs = list(range(max(len(train_values), len(val_values))))\n",
    "        ax.plot(epochs, train_values * factor, label=f\"Train\")\n",
    "        ax.plot(epochs, val_values * factor, label=f\"Validation\")\n",
    "        ax.legend()\n",
    "        if y_bounds is not None:\n",
    "            ax.set_ylim(*y_bounds)\n",
    "    plt.show()\n",
    "\n",
    "\n",
    "def demo():\n",
    "    train_losses = [1.9055, 1.3961, 1.1048, 0.929, 0.7712, 0.6662, 0.5938, 0.5443, 0.5103, 0.4898, 0.468, 0.4464, 0.433, 0.4211, 0.4076, 0.3951, 0.3846, 0.3802, 0.3668, 0.3581, 0.3586, 0.3426, 0.3429, 0.3327, 0.3312, 0.3208, 0.3198, 0.3115, 0.3063, 0.3064, 0.2948, 0.2931, 0.2857, 0.2781, 0.2783, 0.2733, 0.2624, 0.2558, 0.2576, 0.2509, 0.2473, 0.239, 0.234, 0.2336, 0.2266, 0.2176, 0.2148, 0.2089, 0.1967, 0.1929, 0.1958, 0.1837, 0.1796, 0.1803, 0.1658, 0.169, 0.1545, 0.1485, 0.1457, 0.1391, 0.1334, 0.1215, 0.1198, 0.1143, 0.1074, 0.1009, 0.0924, 0.089, 0.0779, 0.078, 0.0639, 0.0617, 0.0537, 0.0495, 0.0448, 0.0388, 0.033, 0.0267, 0.0252, 0.0184, 0.0136, 0.0116, 0.0091, 0.0066, 0.0051, 0.0048, 0.0037, 0.0039, 0.0032, 0.0034, 0.0033, 0.0031, 0.0028, 0.0027, 0.0027, 0.0027, 0.0025]\n",
    "    val_losses = [1.5204, 1.2571, 1.1712, 0.9874, 0.9931, 0.8288, 0.6581, 0.7392, 1.4839, 1.0414, 0.6371, 0.5949, 0.6025, 0.622, 0.5254, 0.5265, 0.7225, 0.4621, 0.7468, 0.6257, 0.5919, 0.5239, 0.537, 0.5628, 0.4791, 0.4213, 0.5414, 0.464, 0.4871, 0.4246, 0.5365, 0.4726, 0.468, 0.4741, 0.5209, 0.4442, 0.4674, 0.6188, 0.3692, 0.3901, 0.3444, 0.4453, 0.3935, 0.4295, 0.3724, 0.3435, 0.3674, 0.4298, 0.3259, 0.5398, 0.4597, 0.4185, 0.408, 0.3123, 0.3378, 0.3418, 0.3127, 0.3657, 0.2925, 0.337, 0.3298, 0.2997, 0.303, 0.2969, 0.3248, 0.3463, 0.3722, 0.283, 0.2833, 0.2909, 0.2422, 0.2657, 0.2517, 0.2816, 0.2927, 0.2426, 0.232, 0.234, 0.2272, 0.2372, 0.2107, 0.203, 0.1987, 0.1854, 0.1889, 0.1887, 0.1853, 0.1802, 0.1813, 0.1792, 0.1757, 0.1748, 0.1747, 0.1758, 0.1742, 0.1735, 0.1725]\n",
    "    train_accs = [0.299, 0.4851, 0.6059, 0.6719, 0.7327, 0.7706, 0.7963, 0.8143, 0.826, 0.832, 0.8393, 0.848, 0.8502, 0.8541, 0.8601, 0.8649, 0.8693, 0.8674, 0.8744, 0.8777, 0.8772, 0.8818, 0.8814, 0.8861, 0.8871, 0.8898, 0.8886, 0.8926, 0.8947, 0.8955, 0.8987, 0.8995, 0.9018, 0.9054, 0.9023, 0.9056, 0.9108, 0.9114, 0.9118, 0.9136, 0.9157, 0.9182, 0.9201, 0.919, 0.9229, 0.9261, 0.926, 0.9291, 0.9331, 0.9339, 0.9327, 0.9377, 0.9392, 0.9369, 0.9438, 0.9422, 0.947, 0.9497, 0.9502, 0.9525, 0.9535, 0.9587, 0.9598, 0.9605, 0.9642, 0.9657, 0.9683, 0.9699, 0.9743, 0.9736, 0.9791, 0.979, 0.9823, 0.9838, 0.9858, 0.9878, 0.9901, 0.9921, 0.9924, 0.9953, 0.9966, 0.9974, 0.9981, 0.9988, 0.9993, 0.9993, 0.9996, 0.9995, 0.9997, 0.9997, 0.9997, 0.9998, 0.9999, 0.9998, 0.9999, 0.9997, 0.9999]\n",
    "    val_accs = [0.4371, 0.5499, 0.5952, 0.6641, 0.6793, 0.7191, 0.779, 0.7643, 0.6103, 0.6975, 0.7975, 0.7958, 0.7987, 0.7958, 0.8237, 0.831, 0.764, 0.8415, 0.7795, 0.8002, 0.8169, 0.8298, 0.8178, 0.8115, 0.8503, 0.8582, 0.8281, 0.8515, 0.8506, 0.8571, 0.8252, 0.851, 0.8519, 0.8485, 0.8266, 0.8533, 0.8454, 0.8173, 0.8787, 0.8687, 0.8898, 0.8591, 0.8735, 0.8617, 0.8768, 0.8914, 0.8849, 0.8653, 0.8944, 0.8437, 0.8567, 0.8693, 0.8744, 0.9015, 0.8948, 0.8884, 0.8971, 0.887, 0.9091, 0.8948, 0.9008, 0.9075, 0.9085, 0.9085, 0.9063, 0.9015, 0.8942, 0.9123, 0.9166, 0.9175, 0.9295, 0.9238, 0.9305, 0.9202, 0.9186, 0.9334, 0.9344, 0.9366, 0.9382, 0.9396, 0.9438, 0.9466, 0.9492, 0.9511, 0.95, 0.9481, 0.9499, 0.9503, 0.9506, 0.9521, 0.9522, 0.9512, 0.9532, 0.9525, 0.953, 0.953, 0.9537]\n",
    "    train_hist = History(train_losses, train_accs)\n",
    "    val_hist = History(val_losses, val_accs)\n",
    "    plot_epochs_curves(train_hist, val_hist)\n",
    "\n",
    "\n",
    "demo()"
   ],
   "metadata": {
    "collapsed": false
   },
   "id": "a2dd6fc689833916",
   "execution_count": null
  },
  {
   "cell_type": "code",
   "outputs": [],
   "source": [
    "from torch import nn\n",
    "import torch\n",
    "import torch.random\n",
    "\n",
    "d = nn.Dropout(0.5)\n",
    "\n",
    "t = torch.rand(size=(1, 3, 32, 32))\n",
    "print(d(t))\n",
    "assert torch.equal(t, nn.Dropout(0)(t))\n",
    "\n",
    "def create_dropout_model():\n",
    "    from dlmp1.models.resnet import CustomResNetWithDropout\n",
    "    from dlmp1.models.resnet import Hyperparametry\n",
    "    from dlmp1.models.resnet import BlockSpec\n",
    "    hyperparametry = Hyperparametry(\n",
    "        pre_blocks_dropout_rate=0.2, \n",
    "        post_blocks_dropout_rate=0.2,\n",
    "        between_blocks_dropout_rate=0.2,\n",
    "    )\n",
    "    return CustomResNetWithDropout([\n",
    "        BlockSpec(2, 64, stride=1),\n",
    "        BlockSpec(5, 128, stride=2),\n",
    "        BlockSpec(3, 256, stride=2),\n",
    "    ], hyperparametry=hyperparametry)"
   ],
   "metadata": {
    "collapsed": false
   },
   "id": "21158128e32a5de0",
   "execution_count": null
  }
 ],
 "metadata": {
  "kernelspec": {
   "display_name": "Python 3",
   "language": "python",
   "name": "python3"
  },
  "language_info": {
   "codemirror_mode": {
    "name": "ipython",
    "version": 2
   },
   "file_extension": ".py",
   "mimetype": "text/x-python",
   "name": "python",
   "nbconvert_exporter": "python",
   "pygments_lexer": "ipython2",
   "version": "2.7.6"
  }
 },
 "nbformat": 4,
 "nbformat_minor": 5
}
