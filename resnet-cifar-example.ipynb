{
 "cells": [
  {
   "cell_type": "markdown",
   "source": [
    "# ResNet Example"
   ],
   "metadata": {
    "collapsed": false
   },
   "id": "23efab9bb6f55e37"
  },
  {
   "cell_type": "code",
   "outputs": [],
   "source": [
    "!(pip show torch-summary || pip install torch-summary)"
   ],
   "metadata": {
    "collapsed": false
   },
   "id": "23ee9d746b26c0d"
  },
  {
   "cell_type": "code",
   "outputs": [],
   "source": [
    "!(test -d .git || test -d mp1 || git clone dev https://github.com/mike10004/csgy6953-mp1.git mp1)"
   ],
   "metadata": {
    "collapsed": false
   },
   "id": "e820aeaa34b95b6f"
  },
  {
   "cell_type": "code",
   "outputs": [],
   "source": [
    "# change to correct branch here\n",
    "# !(cd mp1 && git switch dev)"
   ],
   "metadata": {
    "collapsed": false
   },
   "id": "b4813fe4b59dd96e"
  },
  {
   "cell_type": "code",
   "outputs": [],
   "source": [
    "%set_env PYTHONPATH=$PWD/mp1\n",
    "!echo \"PYTHONPATH=${PYTHONPATH}\""
   ],
   "metadata": {
    "collapsed": false
   },
   "id": "a9c628569621d394"
  },
  {
   "cell_type": "code",
   "outputs": [],
   "source": [
    "import dlmp1\n",
    "from pathlib import Path\n",
    "print(\"imported\", dlmp1, \"from\", Path(dlmp1.__file__).parent.parent)"
   ],
   "metadata": {
    "collapsed": false
   },
   "id": "fbf6f55266c1a6ab"
  },
  {
   "cell_type": "code",
   "outputs": [],
   "source": [
    "from dlmp1.models.resnet import ResNet18\n",
    "import torchsummary\n",
    "\n",
    "def summarize_model():\n",
    "    model = ResNet18()\n",
    "    stats = torchsummary.summary(model)\n",
    "    print(stats)\n"
   ],
   "metadata": {
    "collapsed": false
   },
   "id": "662aa08adbaaf77a"
  },
  {
   "cell_type": "code",
   "outputs": [],
   "source": [
    "DO_TRAIN = False\n",
    "NUM_EPOCHS = 10\n",
    "LEARNING_RATE = 0.1\n",
    "\n",
    "if DO_TRAIN:\n",
    "    import dlmp1.main\n",
    "    dlmp1.main.perform(\n",
    "        model_name=\"ResNet18\",\n",
    "        epoch_count=NUM_EPOCHS,\n",
    "        learning_rate=LEARNING_RATE,\n",
    "    )\n"
   ],
   "metadata": {
    "collapsed": false
   },
   "id": "1edbd841bec01013"
  }
 ],
 "metadata": {
  "kernelspec": {
   "display_name": "Python 3",
   "language": "python",
   "name": "python3"
  },
  "language_info": {
   "codemirror_mode": {
    "name": "ipython",
    "version": 2
   },
   "file_extension": ".py",
   "mimetype": "text/x-python",
   "name": "python",
   "nbconvert_exporter": "python",
   "pygments_lexer": "ipython2",
   "version": "2.7.6"
  }
 },
 "nbformat": 4,
 "nbformat_minor": 5
}
