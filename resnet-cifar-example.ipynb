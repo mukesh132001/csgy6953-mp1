{
 "cells": [
  {
   "cell_type": "markdown",
   "source": [
    "# ResNet Example"
   ],
   "metadata": {
    "collapsed": false
   },
   "id": "23efab9bb6f55e37"
  },
  {
   "cell_type": "code",
   "outputs": [],
   "source": [
    "!(pip show torch-summary || pip install torch-summary)"
   ],
   "metadata": {
    "collapsed": false
   },
   "id": "23ee9d746b26c0d"
  },
  {
   "cell_type": "code",
   "outputs": [],
   "source": [
    "!(test -d .git || test -d mp1 || git clone https://github.com/mike10004/csgy6953-mp1.git mp1)"
   ],
   "metadata": {
    "collapsed": false
   },
   "id": "e820aeaa34b95b6f"
  },
  {
   "cell_type": "code",
   "outputs": [],
   "source": [
    "# change to correct branch here\n",
    "# !(cd mp1 && git switch dev)"
   ],
   "metadata": {
    "collapsed": false
   },
   "id": "b4813fe4b59dd96e"
  },
  {
   "cell_type": "code",
   "outputs": [],
   "source": [
    "!(cd mp1; git pull)"
   ],
   "metadata": {
    "collapsed": false
   },
   "id": "8ee7d1b8eb60bec2"
  },
  {
   "cell_type": "code",
   "outputs": [],
   "source": [
    "import os\n",
    "import sys\n",
    "print(\"PYTHONPATH:\", os.getenv(\"PYTHONPATH\", None))\n",
    "project_root_dir = '/content/mp1'\n",
    "if not project_root_dir in sys.path:\n",
    "    sys.path.append(project_root_dir)\n",
    "print(\"\\n\".join(sys.path))"
   ],
   "metadata": {
    "collapsed": false
   },
   "id": "a9c628569621d394"
  },
  {
   "cell_type": "code",
   "outputs": [],
   "source": [
    "import dlmp1\n",
    "from pathlib import Path\n",
    "print(\"imported\", dlmp1, \"from\", Path(dlmp1.__file__).parent.parent)"
   ],
   "metadata": {
    "collapsed": false
   },
   "id": "fbf6f55266c1a6ab"
  },
  {
   "cell_type": "code",
   "outputs": [],
   "source": [
    "from dlmp1.models.resnet import ResNet18\n",
    "import torchsummary\n",
    "\n",
    "def summarize_model():\n",
    "    model = ResNet18()\n",
    "    stats = torchsummary.summary(model)\n",
    "    print(stats)\n",
    "\n",
    "summarize_model()"
   ],
   "metadata": {
    "collapsed": false
   },
   "id": "662aa08adbaaf77a"
  },
  {
   "cell_type": "code",
   "outputs": [],
   "source": [
    "import dlmp1.main\n",
    "from dlmp1.main import TrainConfig\n",
    "\n",
    "DO_TRAIN = False\n",
    "CONFIG = TrainConfig(\n",
    "    epoch_count=50,\n",
    "    learning_rate=0.1,\n",
    "    batch_size_train=200,\n",
    "    verbose_scheduler=True,\n",
    ")\n",
    "\n",
    "if DO_TRAIN:\n",
    "    \n",
    "    dlmp1.main.perform(\n",
    "        model_name=\"ResNet18\",\n",
    "        config=CONFIG,\n",
    "    )\n"
   ],
   "metadata": {
    "collapsed": false
   },
   "id": "1edbd841bec01013"
  }
 ],
 "metadata": {
  "kernelspec": {
   "display_name": "Python 3",
   "language": "python",
   "name": "python3"
  },
  "language_info": {
   "codemirror_mode": {
    "name": "ipython",
    "version": 2
   },
   "file_extension": ".py",
   "mimetype": "text/x-python",
   "name": "python",
   "nbconvert_exporter": "python",
   "pygments_lexer": "ipython2",
   "version": "2.7.6"
  }
 },
 "nbformat": 4,
 "nbformat_minor": 5
}
