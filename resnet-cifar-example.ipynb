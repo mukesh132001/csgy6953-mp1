{
 "cells": [
  {
   "cell_type": "markdown",
   "source": [
    "# ResNet Example"
   ],
   "metadata": {
    "collapsed": false
   },
   "id": "23efab9bb6f55e37"
  },
  {
   "cell_type": "code",
   "outputs": [],
   "source": [
    "!(pip show torch-summary || pip install torch-summary)"
   ],
   "metadata": {
    "collapsed": false
   },
   "id": "23ee9d746b26c0d",
   "execution_count": null
  },
  {
   "cell_type": "code",
   "outputs": [],
   "source": [
    "!(test -d .git || test -d mp1 || git clone https://github.com/mike10004/csgy6953-mp1.git mp1)"
   ],
   "metadata": {
    "collapsed": false
   },
   "id": "e820aeaa34b95b6f",
   "execution_count": null
  },
  {
   "cell_type": "code",
   "outputs": [],
   "source": [
    "# change to correct branch here\n",
    "!(cd mp1 && git switch flexy-resnet)"
   ],
   "metadata": {
    "collapsed": false
   },
   "id": "b4813fe4b59dd96e",
   "execution_count": null
  },
  {
   "cell_type": "code",
   "outputs": [],
   "source": [
    "!(test -d mp1 && cd mp1 && git pull)\n",
    "!(test -d mp1 && cp -r mp1/dlmp1 ./)"
   ],
   "metadata": {
    "collapsed": false
   },
   "id": "8ee7d1b8eb60bec2",
   "execution_count": null
  },
  {
   "cell_type": "code",
   "outputs": [],
   "source": [
    "\n",
    "# set empty to disable saving\n",
    "GDRIVE_SAVE_DIR = \"CS-GY 6953 DL/deep learning midterm project/checkpoints\"\n"
   ],
   "metadata": {
    "collapsed": false
   },
   "id": "cf64c5b560b420f3"
  },
  {
   "cell_type": "code",
   "outputs": [],
   "source": [
    "import dlmp1\n",
    "from pathlib import Path\n",
    "print(\"imported\", dlmp1, \"from\", Path(dlmp1.__file__).parent.parent)"
   ],
   "metadata": {
    "collapsed": false
   },
   "id": "fbf6f55266c1a6ab",
   "execution_count": null
  },
  {
   "cell_type": "code",
   "outputs": [],
   "source": [
    "from torch import nn\n",
    "from dlmp1.models.resnet import CustomResNet\n",
    "from dlmp1.models.resnet import BlockSpec\n",
    "import torchsummary\n",
    "\n",
    "MODEL = CustomResNet([\n",
    "    BlockSpec(2, 64, stride=1),\n",
    "    BlockSpec(5, 128, stride=2),\n",
    "    BlockSpec(3, 256, stride=2),\n",
    "]) \n",
    "\n",
    "def summarize_model(model: nn.Module):\n",
    "    stats = torchsummary.summary(model, verbose=0)\n",
    "    print(type(model).__name__, f\"{stats.trainable_params/1_000_000:.1f}m trainable parameters ({stats.trainable_params})\")\n",
    "\n",
    "summarize_model(MODEL)"
   ],
   "metadata": {
    "collapsed": false
   },
   "id": "662aa08adbaaf77a",
   "execution_count": null
  },
  {
   "cell_type": "code",
   "outputs": [],
   "source": [
    "from dlmp1.main import Dataset\n",
    "BATCH_SIZE_TRAIN = 128\n",
    "DATASET = Dataset.acquire(BATCH_SIZE_TRAIN)\n"
   ],
   "metadata": {
    "collapsed": false
   },
   "id": "94353ad7aa455d61"
  },
  {
   "cell_type": "code",
   "outputs": [],
   "source": [
    "import dlmp1.main\n",
    "from dlmp1.main import TrainConfig\n",
    "\n",
    "DO_TRAIN = False\n",
    "CONFIG = TrainConfig(\n",
    "    epoch_count=50,\n",
    "    learning_rate=0.1,\n",
    "    verbose_scheduler=True,\n",
    ")\n",
    "\n",
    "TRAIN_RESULT = None\n",
    "if DO_TRAIN:\n",
    "    TRAIN_RESULT = dlmp1.main.perform(\n",
    "        model=MODEL,\n",
    "        dataset=DATASET,\n",
    "        config=CONFIG,\n",
    "    )\n"
   ],
   "metadata": {
    "collapsed": false
   },
   "id": "1edbd841bec01013",
   "execution_count": null
  },
  {
   "cell_type": "code",
   "outputs": [],
   "source": [
    "import os\n",
    "import sys\n",
    "import shutil\n",
    "import datetime\n",
    "from typing import Optional\n",
    "\n",
    "\n",
    "def get_save_path(checkpoint_file: Path, salt: str = None) -> Optional[str]:\n",
    "    if not GDRIVE_SAVE_DIR:\n",
    "        return\n",
    "    try:\n",
    "        from google.colab import drive\n",
    "        save_path_root = \"/content/gdrive\"\n",
    "        drive.mount(save_path_root)\n",
    "        if salt is None:\n",
    "            salt = \"-\" + datetime.datetime.now().strftime(\"%Y%m%d-%H%M%S\")\n",
    "        dst_file = os.path.join(save_path_root, GDRIVE_SAVE_DIR, checkpoint_file.stem + salt + checkpoint_file.suffix)\n",
    "        return dst_file\n",
    "    except ImportError:\n",
    "        print(\"not saving because not in colab environment\", file=sys.stderr)\n",
    "        \n",
    "\n",
    "if TRAIN_RESULT is not None:\n",
    "    CHECKPOINT_DST_PATH = get_save_path(TRAIN_RESULT.checkpoint_file)\n",
    "    if CHECKPOINT_DST_PATH:\n",
    "        shutil.copyfile(TRAIN_RESULT.checkpoint_file, CHECKPOINT_DST_PATH)\n",
    "        print(f\"copied checkpoint file to\", CHECKPOINT_DST_PATH)\n"
   ],
   "metadata": {
    "collapsed": false
   },
   "id": "bf8aad70b272073e"
  }
 ],
 "metadata": {
  "kernelspec": {
   "display_name": "Python 3",
   "language": "python",
   "name": "python3"
  },
  "language_info": {
   "codemirror_mode": {
    "name": "ipython",
    "version": 2
   },
   "file_extension": ".py",
   "mimetype": "text/x-python",
   "name": "python",
   "nbconvert_exporter": "python",
   "pygments_lexer": "ipython2",
   "version": "2.7.6"
  }
 },
 "nbformat": 4,
 "nbformat_minor": 5
}
